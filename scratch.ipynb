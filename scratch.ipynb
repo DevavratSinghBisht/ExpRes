{
 "cells": [
  {
   "cell_type": "code",
   "execution_count": 8,
   "metadata": {},
   "outputs": [],
   "source": [
    "from pydantic import BaseModel\n",
    "\n",
    "class UserRegReq(BaseModel):\n",
    "\n",
    "    # firstName   : str\n",
    "    # lastName    : str\n",
    "    username    : str\n",
    "    # dateOfBirth : str # TODO check if it need to be datetime\n",
    "    # contactNo   : int\n",
    "    # email       : str\n",
    "    # password    : str\n",
    "    # password2   : str\n"
   ]
  },
  {
   "cell_type": "code",
   "execution_count": 20,
   "metadata": {},
   "outputs": [],
   "source": [
    "from pymongo import MongoClient\n",
    "import datetime\n",
    "\n",
    "class SocialMedia:\n",
    "    def __init__(self, db_url=\"mongodb://localhost:27017/\", db_name=\"social_media\", username=\"root\", password=\"root\"):\n",
    "        # Include username and password in MongoClient\n",
    "        self.client = MongoClient(db_url, username=username, password=password)\n",
    "        self.db = self.client[db_name]\n",
    "        self.users = self.db[\"users\"]\n",
    "        self.posts = self.db[\"posts\"]\n",
    "\n",
    "    # Create a User Profile\n",
    "    def create_user(self, user: UserRegReq):\n",
    "        \n",
    "        user = user.model_dump()\n",
    "        try:\n",
    "            del user['password2']\n",
    "        except:\n",
    "            pass\n",
    "        user[\"created_at\"] = datetime.datetime.now(datetime.timezone.utc)\n",
    "        user[\"followers\"] = []\n",
    "        user[\"following\"] = []\n",
    "        result = self.users.insert_one(user)\n",
    "        print(f\"User created with ID: {result.inserted_id}\")\n",
    "\n",
    "    # Create a Post\n",
    "    def create_post(self, username, content):\n",
    "        user = self.users.find_one({\"username\": username})\n",
    "        if not user:\n",
    "            print(f\"User {username} not found.\")\n",
    "            return\n",
    "        post = {\n",
    "            \"user_id\": user[\"_id\"],\n",
    "            \"content\": content,\n",
    "            \"likes\": 0,\n",
    "            \"comments\": [],\n",
    "            \"created_at\": datetime.datetime.now(datetime.timezone.utc)\n",
    "        }\n",
    "        result = self.posts.insert_one(post)\n",
    "        print(f\"Post created with ID: {result.inserted_id}\")\n",
    "\n",
    "    # Like a Post\n",
    "    def like_post(self, post_id):\n",
    "        post = self.posts.find_one({\"_id\": post_id})\n",
    "        if not post:\n",
    "            print(f\"Post with ID {post_id} not found.\")\n",
    "            return\n",
    "        self.posts.update_one({\"_id\": post_id}, {\"$inc\": {\"likes\": 1}})\n",
    "        print(f\"Post {post_id} liked!\")\n",
    "\n",
    "    # Add a Comment to a Post\n",
    "    def add_comment(self, post_id, username, comment_text):\n",
    "        comment = {\n",
    "            \"username\": username,\n",
    "            \"text\": comment_text,\n",
    "            \"created_at\": datetime.utcnow()\n",
    "        }\n",
    "        result = self.posts.update_one({\"_id\": post_id}, {\"$push\": {\"comments\": comment}})\n",
    "        if result.modified_count:\n",
    "            print(f\"Comment added to post {post_id}.\")\n",
    "        else:\n",
    "            print(f\"Failed to add comment. Post {post_id} not found.\")\n",
    "\n",
    "    # Follow a User\n",
    "    def follow_user(self, follower_username, followee_username):\n",
    "        follower = self.users.find_one({\"username\": follower_username})\n",
    "        followee = self.users.find_one({\"username\": followee_username})\n",
    "\n",
    "        if not follower or not followee:\n",
    "            print(f\"Follower or Followee user not found.\")\n",
    "            return\n",
    "\n",
    "        # Update follower's \"following\" list\n",
    "        self.users.update_one(\n",
    "            {\"_id\": follower[\"_id\"]},\n",
    "            {\"$addToSet\": {\"following\": followee[\"_id\"]}}\n",
    "        )\n",
    "\n",
    "        # Update followee's \"followers\" list\n",
    "        self.users.update_one(\n",
    "            {\"_id\": followee[\"_id\"]},\n",
    "            {\"$addToSet\": {\"followers\": follower[\"_id\"]}}\n",
    "        )\n",
    "\n",
    "        print(f\"{follower_username} is now following {followee_username}.\")\n",
    "\n",
    "    # View a Post\n",
    "    def view_post(self, post_id):\n",
    "        post = self.posts.find_one({\"_id\": post_id})\n",
    "        if not post:\n",
    "            print(f\"Post with ID {post_id} not found.\")\n",
    "            return\n",
    "        user = self.users.find_one({\"_id\": post[\"user_id\"]})\n",
    "        print(f\"Post by {user['username']}: {post['content']}\")\n",
    "        print(f\"Likes: {post['likes']}\")\n",
    "        print(f\"Comments:\")\n",
    "        for comment in post[\"comments\"]:\n",
    "            print(f\"- {comment['username']}: {comment['text']}\")\n",
    "\n",
    "    def get_user_posts(self, username):\n",
    "        user = self.users.find_one({\"username\": username})\n",
    "        if not user:\n",
    "            print(f\"User {username} not found.\")\n",
    "            return\n",
    "        \n",
    "        user_posts = self.posts.find({\"user_id\": user[\"_id\"]})\n",
    "        print(f\"Posts by {username}:\")\n",
    "        for post in user_posts:\n",
    "            print(f\"- ID: {post['_id']} | Content: {post['content']} | Likes: {post['likes']}\")"
   ]
  },
  {
   "cell_type": "code",
   "execution_count": 21,
   "metadata": {},
   "outputs": [],
   "source": [
    "user = UserRegReq(username=\"john_doe\")"
   ]
  },
  {
   "cell_type": "code",
   "execution_count": 22,
   "metadata": {},
   "outputs": [],
   "source": [
    "social_media = SocialMedia(username=\"root\", password=\"root\")"
   ]
  },
  {
   "cell_type": "code",
   "execution_count": 14,
   "metadata": {},
   "outputs": [
    {
     "name": "stdout",
     "output_type": "stream",
     "text": [
      "User created with ID: 67466a7d02ca6db2652589a1\n"
     ]
    }
   ],
   "source": [
    "social_media.create_user(user)"
   ]
  },
  {
   "cell_type": "code",
   "execution_count": 23,
   "metadata": {},
   "outputs": [
    {
     "name": "stdout",
     "output_type": "stream",
     "text": [
      "Post created with ID: 67466b2902ca6db2652589a3\n"
     ]
    }
   ],
   "source": [
    "social_media.create_post(\"john_doe\", \"hellow world\")"
   ]
  },
  {
   "cell_type": "code",
   "execution_count": 24,
   "metadata": {},
   "outputs": [],
   "source": [
    "john_id = social_media.users.find_one({\"username\": \"john_doe\"})[\"_id\"]\n",
    "post_id = social_media.posts.find_one({\"user_id\": john_id})[\"_id\"]"
   ]
  },
  {
   "cell_type": "code",
   "execution_count": 25,
   "metadata": {},
   "outputs": [
    {
     "data": {
      "text/plain": [
       "<pymongo.cursor.Cursor at 0x21ddd6d24d0>"
      ]
     },
     "execution_count": 25,
     "metadata": {},
     "output_type": "execute_result"
    }
   ],
   "source": [
    "social_media.posts.find({\"user_id\": john_id})"
   ]
  },
  {
   "cell_type": "code",
   "execution_count": 26,
   "metadata": {},
   "outputs": [
    {
     "name": "stdout",
     "output_type": "stream",
     "text": [
      "Posts by john_doe:\n",
      "- ID: 67466b2902ca6db2652589a3 | Content: hellow world | Likes: 0\n"
     ]
    }
   ],
   "source": [
    "social_media.get_user_posts(\"john_doe\")"
   ]
  },
  {
   "cell_type": "code",
   "execution_count": null,
   "metadata": {},
   "outputs": [],
   "source": []
  }
 ],
 "metadata": {
  "kernelspec": {
   "display_name": "ExpRes",
   "language": "python",
   "name": "python3"
  },
  "language_info": {
   "codemirror_mode": {
    "name": "ipython",
    "version": 3
   },
   "file_extension": ".py",
   "mimetype": "text/x-python",
   "name": "python",
   "nbconvert_exporter": "python",
   "pygments_lexer": "ipython3",
   "version": "3.10.15"
  }
 },
 "nbformat": 4,
 "nbformat_minor": 2
}
